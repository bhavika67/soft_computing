{
  "nbformat": 4,
  "nbformat_minor": 0,
  "metadata": {
    "colab": {
      "provenance": [],
      "authorship_tag": "ABX9TyMsLf7sExXk7fVg8/QzMpVB",
      "include_colab_link": true
    },
    "kernelspec": {
      "name": "python3",
      "display_name": "Python 3"
    },
    "language_info": {
      "name": "python"
    }
  },
  "cells": [
    {
      "cell_type": "markdown",
      "metadata": {
        "id": "view-in-github",
        "colab_type": "text"
      },
      "source": [
        "<a href=\"https://colab.research.google.com/github/bhavika67/soft_computing/blob/main/GA.ipynb\" target=\"_parent\"><img src=\"https://colab.research.google.com/assets/colab-badge.svg\" alt=\"Open In Colab\"/></a>"
      ]
    },
    {
      "cell_type": "markdown",
      "source": [
        "# Genetic Algorithm"
      ],
      "metadata": {
        "id": "F9OUwfzf0-Qq"
      }
    },
    {
      "cell_type": "markdown",
      "source": [
        "A genetic algorithm (GA) is an optimization method inspired by natural selection and evolution. It solves complex problems by evolving a population of potential solutions through selection, crossover, and mutation."
      ],
      "metadata": {
        "id": "oEULov9g1Ip1"
      }
    },
    {
      "cell_type": "code",
      "source": [
        "import numpy as np\n",
        "import matplotlib.pyplot as plt\n",
        "\n",
        "# Problem parameters\n",
        "CHROMOSOME_LENGTH = 10  # Length of binary-encoded chromosome\n",
        "POP_SIZE = 20           # Population size\n",
        "GEN_MAX = 50            # Maximum number of generations\n",
        "MUTATION_RATE = 0.01    # Mutation probability\n",
        "TOURNAMENT_SIZE = 3     # Size for tournament selection\n",
        "\n",
        "# Convert binary chromosome to decimal\n",
        "def decode(chromosome):\n",
        "    return int(\"\".join(map(str, chromosome)), 2)\n",
        "\n",
        "# Fitness function to maximize: f(x) = x^2\n",
        "def fitness(chromosome):\n",
        "    x = decode(chromosome)\n",
        "    return x ** 2\n",
        "\n",
        "# Initialize population with random binary strings\n",
        "def initialize_population():\n",
        "    return np.random.randint(2, size=(POP_SIZE, CHROMOSOME_LENGTH))\n",
        "\n",
        "# Tournament selection\n",
        "def select_parents(population, fitness_values):\n",
        "    selected = []\n",
        "    for _ in range(POP_SIZE):\n",
        "        tournament = np.random.choice(range(POP_SIZE), TOURNAMENT_SIZE)\n",
        "        selected.append(population[max(tournament, key=lambda idx: fitness_values[idx])])\n",
        "    return np.array(selected)\n",
        "\n",
        "# Crossover function - single point crossover\n",
        "def crossover(parent1, parent2):\n",
        "    if np.random.rand() < 0.9:  # Crossover probability\n",
        "        point = np.random.randint(1, CHROMOSOME_LENGTH - 1)\n",
        "        return np.concatenate((parent1[:point], parent2[point:]))\n",
        "    else:\n",
        "        return parent1\n",
        "\n",
        "# Mutation function - bit flip mutation\n",
        "def mutate(chromosome):\n",
        "    for i in range(CHROMOSOME_LENGTH):\n",
        "        if np.random.rand() < MUTATION_RATE:\n",
        "            chromosome[i] = 1 - chromosome[i]  # Flip bit\n",
        "    return chromosome\n",
        "\n",
        "# Genetic Algorithm\n",
        "def genetic_algorithm():\n",
        "    population = initialize_population()\n",
        "    best_fitness_values = []  # For tracking the best fitness over generations\n",
        "\n",
        "    for generation in range(GEN_MAX):\n",
        "        # Evaluate fitness\n",
        "        fitness_values = np.array([fitness(ind) for ind in population])\n",
        "        best_fitness_values.append(fitness_values.max())\n",
        "\n",
        "        # Select parents\n",
        "        parents = select_parents(population, fitness_values)\n",
        "\n",
        "        # Generate new population through crossover and mutation\n",
        "        new_population = []\n",
        "        for i in range(0, POP_SIZE, 2):\n",
        "            parent1, parent2 = parents[i], parents[i+1]\n",
        "            offspring1 = crossover(parent1, parent2)\n",
        "            offspring2 = crossover(parent2, parent1)\n",
        "            new_population.append(mutate(offspring1))\n",
        "            new_population.append(mutate(offspring2))\n",
        "        population = np.array(new_population)\n",
        "\n",
        "    # Final fitness evaluation\n",
        "    final_fitness_values = [fitness(ind) for ind in population]\n",
        "    best_solution = population[np.argmax(final_fitness_values)]\n",
        "\n",
        "    return best_solution, best_fitness_values\n",
        "\n",
        "# Run the algorithm and get the result\n",
        "best_solution, best_fitness_values = genetic_algorithm()\n",
        "print(\"Best solution found (binary):\", best_solution)\n",
        "print(\"Best solution found (decimal):\", decode(best_solution))\n",
        "print(\"Best fitness value:\", fitness(best_solution))\n",
        "\n",
        "# Plotting the fitness over generations\n",
        "plt.plot(best_fitness_values)\n",
        "plt.title(\"Genetic Algorithm Optimization\")\n",
        "plt.xlabel(\"Generations\")\n",
        "plt.ylabel(\"Fitness Value\")\n",
        "plt.show()\n"
      ],
      "metadata": {
        "colab": {
          "base_uri": "https://localhost:8080/",
          "height": 524
        },
        "id": "TDWqchxU00T3",
        "outputId": "912b7c61-159b-4e4f-d895-cd8264e30719"
      },
      "execution_count": 1,
      "outputs": [
        {
          "output_type": "stream",
          "name": "stdout",
          "text": [
            "Best solution found (binary): [1 1 1 1 1 1 1 1 1 1]\n",
            "Best solution found (decimal): 1023\n",
            "Best fitness value: 1046529\n"
          ]
        },
        {
          "output_type": "display_data",
          "data": {
            "text/plain": [
              "<Figure size 640x480 with 1 Axes>"
            ],
            "image/png": "[encoded data removed]"
          },
          "metadata": {}
        }
      ]
    }
  ]
}